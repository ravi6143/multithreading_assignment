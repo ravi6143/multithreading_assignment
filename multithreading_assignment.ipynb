{
 "cells": [
  {
   "cell_type": "markdown",
   "id": "ad372e76-988a-4db7-b310-ce296d474321",
   "metadata": {},
   "source": [
    "Question - 1\n",
    "ans - "
   ]
  },
  {
   "cell_type": "markdown",
   "id": "c23a2789-c647-4b92-9a7e-c5fb037a7d97",
   "metadata": {},
   "source": [
    "Multithreading - it refers to the execution of multiple threads concurrently within a signle program.\n",
    "                 Multithreading allows different parts of a program to execute concurrently which\n",
    "                 can improve responsiveness, efficiency etc.\n",
    "                 \n",
    "                \n",
    "Need of Multithreading-\n",
    "  1.- it improves the responsiveness as multithreading allows to execute multiple threads of program\n",
    "      concurrently so it enables the program to respond to the user interactions while performing other \n",
    "      program in the background.\n",
    "      \n",
    "  2.- parallelism - it enables the parellel execution of tasks on system with multiple cpu cores.\n",
    "                    so is improve the efficiency and computationally intensive operations by dividing the \n",
    "                    workload .\n",
    "                    \n",
    "  3.-Asynchronous Operations - it enables the execution of non blcoking operations,such as input/output\n",
    "                               operations without blocking the main execution thread.This is crucial for\n",
    "                               handling the network communication , i/o file and other operations where\n",
    "                               waiting for a response would cause unnecessary delays.\n",
    "                               \n",
    "                               \n",
    "                               \n",
    "\"threading\" module is used in python for creating , controlling and managing the threads.\n",
    "         "
   ]
  },
  {
   "cell_type": "code",
   "execution_count": null,
   "id": "50433a63-e576-40ec-b24b-4eab430c9fc2",
   "metadata": {},
   "outputs": [],
   "source": []
  },
  {
   "cell_type": "code",
   "execution_count": null,
   "id": "b80a28e0-b73c-4490-a6e9-ee71043064da",
   "metadata": {},
   "outputs": [],
   "source": []
  },
  {
   "cell_type": "markdown",
   "id": "3c4f003d-ce1f-420e-a6c5-dc06f85a8dc6",
   "metadata": {},
   "source": [
    "Question - 2\n",
    "ans -"
   ]
  },
  {
   "cell_type": "markdown",
   "id": "a64a1439-108c-49d1-86b6-1fae641df7b5",
   "metadata": {},
   "source": [
    "'threading' module is used to create , control and manage the threads.it provides high level interface \n",
    "for woring with threads compared to lower level of 'thread'.\n",
    "\n",
    "  activeCount() - \n",
    "                  this functions is used to return the count of current acitve threads in the program.\n",
    "                  it does not include the main thread.\n",
    "                  \n"
   ]
  },
  {
   "cell_type": "code",
   "execution_count": 23,
   "id": "f8461088-395b-42a7-aac2-f56181e1e4c9",
   "metadata": {},
   "outputs": [
    {
     "name": "stdout",
     "output_type": "stream",
     "text": [
      "your licesnce is valid 0\n",
      "your licesnce is valid 1\n",
      "your licesnce is valid 2\n",
      "your licesnce is valid 3\n",
      "your licesnce is valid 4\n"
     ]
    }
   ],
   "source": [
    "import logging\n",
    "import threading\n",
    "\n",
    "logging.basicConfig(filename = \"ravi.log\" , level = logging.INFO)\n",
    "\n",
    "logging.info(\"a function named validation is created and age is passed as an argument\")\n",
    "def validation(age):\n",
    "    print(\"your licesnce is valid %s\"% age)\n",
    "logging.info(\"thread 1 is created as thread\")    \n",
    "thread1  = [threading.Thread(target = validation , args = (age,))for age in range(5)]\n",
    "\n",
    "for t in thread1:\n",
    "    t.start()"
   ]
  },
  {
   "cell_type": "code",
   "execution_count": 24,
   "id": "f26e0af6-fee0-455e-bba3-ad286e1a8bec",
   "metadata": {},
   "outputs": [
    {
     "data": {
      "text/plain": [
       "8"
      ]
     },
     "execution_count": 24,
     "metadata": {},
     "output_type": "execute_result"
    }
   ],
   "source": [
    "import logging\n",
    "logging.basicConfig(filename = \"ravi.log\" , level = logging.NOTSET)\n",
    "\n",
    "logging.info(\"active_count function is executed to count the active threads\")\n",
    "threading.active_count()"
   ]
  },
  {
   "cell_type": "markdown",
   "id": "6a9576ad-e2cf-4433-91dc-44228eaa16ea",
   "metadata": {},
   "source": [
    "Current_thread - \n",
    "                  it  returns the current thread object corresponding to the callers thread\n",
    "                  of control."
   ]
  },
  {
   "cell_type": "code",
   "execution_count": 25,
   "id": "201b12aa-7818-4c80-85b6-cc51d887eb7a",
   "metadata": {},
   "outputs": [
    {
     "name": "stdout",
     "output_type": "stream",
     "text": [
      "your licesnce is valid 0\n",
      "your licesnce is valid 1\n",
      "your licesnce is valid 2\n",
      "your licesnce is valid 3\n",
      "your licesnce is valid 4\n"
     ]
    },
    {
     "data": {
      "text/plain": [
       "<_MainThread(MainThread, started 140631494715200)>"
      ]
     },
     "execution_count": 25,
     "metadata": {},
     "output_type": "execute_result"
    }
   ],
   "source": [
    "import logging\n",
    "import threading\n",
    "\n",
    "logging.basicConfig(filename = \"ravi.log\" , level = logging.INFO)\n",
    "\n",
    "logging.info(\"a function named validation is created and age is passed as an argument\")\n",
    "def validation(age):\n",
    "    print(\"your licesnce is valid %s\"% age)\n",
    "    \n",
    "logging.info(\"thread 1 is created as thread\")     \n",
    "thread1  = [threading.Thread(target = validation , args = (age,))for age in range(5)]\n",
    "\n",
    "for t in thread1:\n",
    "    t.start()\n",
    "    \n",
    "logging.info(\"current_thread functions is executed to find the current thread object\")    \n",
    "threading.current_thread()"
   ]
  },
  {
   "cell_type": "code",
   "execution_count": null,
   "id": "d1d112cf-cb10-40fe-80dd-1e5c0e6dd0b5",
   "metadata": {},
   "outputs": [],
   "source": []
  },
  {
   "cell_type": "markdown",
   "id": "043cef1d-1f42-4aac-914f-e4649cd2d02a",
   "metadata": {},
   "source": [
    "enumerate - \n",
    "           this functions returns the list of all thread objects currently alive."
   ]
  },
  {
   "cell_type": "code",
   "execution_count": 26,
   "id": "804888ed-76d5-46f1-bfae-707e376ccb73",
   "metadata": {},
   "outputs": [
    {
     "name": "stdout",
     "output_type": "stream",
     "text": [
      "your licesnce is valid 0\n",
      "your licesnce is valid 1\n",
      "your licesnce is valid 2\n",
      "your licesnce is valid 3\n",
      "your licesnce is valid 4\n"
     ]
    }
   ],
   "source": [
    "import logging\n",
    "import threading\n",
    "\n",
    "logging.basicConfig(filename = \"ravi.log\" , level = logging.INFO)\n",
    "\n",
    "logging.info(\"a function named validation is created and age is passed as an argument\")\n",
    "def validation(age):\n",
    "    print(\"your licesnce is valid %s\"% age)\n",
    "logging.info(\"thread 1 is created as thread\")     \n",
    "thread1  = [threading.Thread(target = validation , args = (age,))for age in range(5)]\n",
    "\n",
    "for t in thread1:\n",
    "    t.start()\n",
    "    \n",
    "    \n"
   ]
  },
  {
   "cell_type": "code",
   "execution_count": 28,
   "id": "22fdf80a-c10e-4bcb-bc99-2ecb9d0c606a",
   "metadata": {},
   "outputs": [
    {
     "name": "stdout",
     "output_type": "stream",
     "text": [
      "thread name MainThread\n",
      "thread ident 140631494715200\n",
      "thread is alive True\n",
      "thread name IOPub\n",
      "thread ident 140631424185920\n",
      "thread is alive True\n",
      "thread name Heartbeat\n",
      "thread ident 140631415793216\n",
      "thread is alive True\n",
      "thread name Thread-3 (_watch_pipe_fd)\n",
      "thread ident 140631187912256\n",
      "thread is alive True\n",
      "thread name Thread-4 (_watch_pipe_fd)\n",
      "thread ident 140631179519552\n",
      "thread is alive True\n",
      "thread name Control\n",
      "thread ident 140631171126848\n",
      "thread is alive True\n",
      "thread name IPythonHistorySavingThread\n",
      "thread ident 140631162734144\n",
      "thread is alive True\n",
      "thread name Thread-2\n",
      "thread ident 140631154341440\n",
      "thread is alive True\n"
     ]
    }
   ],
   "source": [
    "threads = threading.enumerate()\n",
    "\n",
    "for thread in threads:\n",
    "    print(\"thread name\",thread.name)\n",
    "    print(\"thread ident\",thread.ident)\n",
    "    print(\"thread is alive\" , thread.is_alive())"
   ]
  },
  {
   "cell_type": "code",
   "execution_count": null,
   "id": "78cabbbc-3bc4-45cf-9c11-5974aa2cb928",
   "metadata": {},
   "outputs": [],
   "source": []
  },
  {
   "cell_type": "code",
   "execution_count": null,
   "id": "7b98ed65-1c6b-45ff-9f7d-8968107f4348",
   "metadata": {},
   "outputs": [],
   "source": []
  },
  {
   "cell_type": "markdown",
   "id": "f5a203f1-a4d8-43bd-9978-05398d52000d",
   "metadata": {},
   "source": [
    "Question - 3\n",
    "ans -"
   ]
  },
  {
   "cell_type": "code",
   "execution_count": 33,
   "id": "3c638b1b-9000-4016-a22f-440a08758686",
   "metadata": {},
   "outputs": [
    {
     "name": "stdout",
     "output_type": "stream",
     "text": [
      "function is running 0\n",
      "function is running 1\n",
      "function is running 2\n",
      "function is running 3\n",
      "function is running 4\n"
     ]
    }
   ],
   "source": [
    "\"\"\" run() functions executes the target functions code direclty in the same threat wothout creating any\n",
    "another thread for execution. it ensures that code of target function executes sequentially within the same\n",
    "thread.\"\"\"\n",
    "\n",
    "def func(numbers):\n",
    "    print(\"function is running %s\"% numbers)\n",
    "    \n",
    "thread2 = [threading.Thread(target = func , args = (numbers,)) for numbers in range(5)]\n",
    "\n",
    "for s in thread2:\n",
    "    s.run()\n",
    "        "
   ]
  },
  {
   "cell_type": "code",
   "execution_count": 35,
   "id": "89962e8b-6290-462e-a4bb-b6ebc41748f2",
   "metadata": {},
   "outputs": [
    {
     "name": "stdout",
     "output_type": "stream",
     "text": [
      "function is starting 0\n",
      "function is starting 1\n",
      "function is starting 2\n",
      "function is starting 3\n",
      "function is starting 4\n"
     ]
    }
   ],
   "source": [
    "\"\"\"star() functions created new thread for exectuion of target functions.it ensures the parellel exectuion\n",
    ".it creates a new operating system thread and the invokes the run() method in that separate thread.\"\"\"\n",
    "\n",
    "def func(numbers):\n",
    "    print(\"function is starting %s\"% numbers)\n",
    "    \n",
    "thread2 = [threading.Thread(target = func , args = (numbers,)) for numbers in range(5)]\n",
    "\n",
    "for s in thread2:\n",
    "    s.start()\n"
   ]
  },
  {
   "cell_type": "code",
   "execution_count": 36,
   "id": "1a8c8844-6cad-4616-bb2a-4e3f407cf11a",
   "metadata": {},
   "outputs": [
    {
     "name": "stdout",
     "output_type": "stream",
     "text": [
      "function is starting 0\n",
      "function is starting 1\n",
      "function is starting 2\n",
      "function is starting 3\n",
      "function is starting 4\n"
     ]
    }
   ],
   "source": [
    "\"\"\"join(): This method blocks the calling thread until the thread on which it is called\n",
    "completes its execution. It is used to synchronize the execution of multiple threads.\n",
    "When a thread calls join() on another thread, it waits for that thread to complete before\n",
    "proceeding further.\"\"\"\n",
    "\n",
    "def func(numbers):\n",
    "    print(\"function is starting %s\"% numbers)\n",
    "    \n",
    "thread2 = [threading.Thread(target = func , args = (numbers,)) for numbers in range(5)]\n",
    "\n",
    "for s in thread2:\n",
    "    s.start()\n",
    "    s.join()\n"
   ]
  },
  {
   "cell_type": "code",
   "execution_count": 39,
   "id": "1ac1017c-bf5f-48bf-a54c-0c26718aefb3",
   "metadata": {},
   "outputs": [
    {
     "name": "stdout",
     "output_type": "stream",
     "text": [
      "function is starting 0\n",
      "function is starting 1\n",
      "function is starting 2\n",
      "function is starting 3\n",
      "function is starting 4\n"
     ]
    },
    {
     "data": {
      "text/plain": [
       "True"
      ]
     },
     "execution_count": 39,
     "metadata": {},
     "output_type": "execute_result"
    }
   ],
   "source": [
    "\"\"\"is_alive() ; this functions return a boolean value indicationg that wheather a thread is alive or not\n",
    "                 a thread is said to be alive if it is starte and yet not completed its execution.\"\"\"\n",
    "\n",
    "def func(numbers):\n",
    "    print(\"function is starting %s\"% numbers)\n",
    "    \n",
    "thread2 = [threading.Thread(target = func , args = (numbers,)) for numbers in range(5)]\n",
    "\n",
    "for s in thread2:\n",
    "    s.start()\n",
    "    \n",
    "thread.is_alive()\n"
   ]
  },
  {
   "cell_type": "code",
   "execution_count": null,
   "id": "21998141-7201-46bb-97b6-8a5c989676ed",
   "metadata": {},
   "outputs": [],
   "source": []
  },
  {
   "cell_type": "code",
   "execution_count": null,
   "id": "946d3972-abc4-4fc7-93ed-a6b56a301877",
   "metadata": {},
   "outputs": [],
   "source": []
  },
  {
   "cell_type": "markdown",
   "id": "c907267c-4389-4d0c-a45b-83e785d554e6",
   "metadata": {},
   "source": [
    "Question-4\n",
    "ans -"
   ]
  },
  {
   "cell_type": "code",
   "execution_count": null,
   "id": "f63069fe-1939-4704-87db-0b88867d032f",
   "metadata": {},
   "outputs": [],
   "source": [
    "import threading\n",
    "\n",
    "def print_squares():\n",
    "    squares = [n**2 for n in range(11)]\n",
    "    for square in squares:\n",
    "        print(square)\n",
    "thread3 = threading.Thread(target = print_squares )\n",
    "\n",
    "def print_cubes():\n",
    "    cubes = [n**3 for n in range(11)]\n",
    "    for cube in cubes:\n",
    "        print(cube)\n",
    "        \n",
    "thread4 = threading.Thread(target = print_cubes)\n",
    "\n",
    "thread3.start()\n",
    "thread4.start()\n",
    "\n",
    "\n",
    "thread3.join()\n",
    "thread4.join()"
   ]
  },
  {
   "cell_type": "code",
   "execution_count": null,
   "id": "cf3bc3b3-1e30-4fec-80c8-a30d246bb561",
   "metadata": {},
   "outputs": [],
   "source": []
  },
  {
   "cell_type": "code",
   "execution_count": null,
   "id": "a9673fa8-6338-41fd-976a-1dda96923dcc",
   "metadata": {},
   "outputs": [],
   "source": []
  },
  {
   "cell_type": "markdown",
   "id": "b9bc71ce-70eb-4922-9371-b4cd68ee22b3",
   "metadata": {},
   "source": [
    "Question- 5\n",
    "ans - "
   ]
  },
  {
   "cell_type": "markdown",
   "id": "7301003e-9f9f-4d90-bb03-e4f0866e7d51",
   "metadata": {},
   "source": [
    "advantages of multithreading -\n",
    "1. it improves the efficiency and performance of cpu as it allows concurrent\n",
    "    execution of multiple threads.\n",
    "2. it improves the responsiveness of program to the user as it allows concu\n",
    "   rrent executions of multiple threads of a program so it enables the program \n",
    "    to respond to user while performing other execution.\n",
    "3. it eliminates the need of explicit data transfer mechanisms as threads\n",
    "    within a process shares same space of memory for better communication and efficient data transfer. \n",
    "                                \n",
    "4.  Multithreading allows developers to write programs with a modular                                            structure, where different tasks are encapsulated within separate threads.                                    This can make the code more organized, easier to understand, and                                               maintainable\n",
    "\n",
    "\n",
    "disadvantages of multithreading -\n",
    "1. it can introduce compexicities and potential bugs related to thread\n",
    "   synchronization, shared resource and race conditions. it could be \n",
    "    challenging to debug the multithreaded code in like theses situation.\n",
    "2. creating numerous threads or using large thread pools can lead the \n",
    "    increased memory consumption.\n",
    "3.  When multiple threads access shared resources concurrently, proper                                           synchronization mechanisms, such as locks or semaphores, are necessary to                                     ensure data integrity and avoid race conditions. Implementing and                                             managing these synchronization mechanisms can introduce additional                                           complexity and overhead.\n",
    "4. Multithreading is most effective when dealing with tasks that involve I/O                                     operations or waiting for external resources. However, on CPU-bound tasks                                     that require significant processing power, the benefits of multithreading                                     might be limited. This is due to the inherent limitations of parallel                                         execution on a single CPU or core. "
   ]
  },
  {
   "cell_type": "code",
   "execution_count": null,
   "id": "b7491c3e-ba40-4b7f-8668-11c2658124b4",
   "metadata": {},
   "outputs": [],
   "source": []
  },
  {
   "cell_type": "code",
   "execution_count": null,
   "id": "0b738ddb-0c3b-42da-967c-ae36b284f962",
   "metadata": {},
   "outputs": [],
   "source": []
  },
  {
   "cell_type": "markdown",
   "id": "f3615625-06e8-4290-8f8a-e93ba3b618a7",
   "metadata": {},
   "source": [
    "Question - 6\n",
    "ans"
   ]
  },
  {
   "cell_type": "markdown",
   "id": "9be26072-80c3-436e-bc97-9cb525850bbe",
   "metadata": {},
   "source": [
    "Deadlock:\n",
    "A deadlock is a situation where two or more threads or processes are unable to proceed because each is waiting for the other to release a resource. In other words, it's a state in which each thread is blocked and waiting for a resource that another thread holds, resulting in a standstill. Deadlocks typically occur due to a lack of proper synchronization or resource allocation management. Deadlocks can be quite problematic as they can cause a program to hang or become unresponsive.\n",
    "\n",
    "Race Condition:\n",
    "A race condition occurs when two or more threads or processes access shared data simultaneously, and the final outcome of the program depends on the order of execution of those threads. The result of the program becomes unpredictable because the threads \"race\" to access and modify shared resources without proper synchronization. Race conditions can lead to incorrect calculations, data corruption, or other unexpected behaviors in the program."
   ]
  },
  {
   "cell_type": "code",
   "execution_count": null,
   "id": "e4c864df-9e66-40e3-bbb2-93fc917b788b",
   "metadata": {},
   "outputs": [],
   "source": []
  }
 ],
 "metadata": {
  "kernelspec": {
   "display_name": "Python 3 (ipykernel)",
   "language": "python",
   "name": "python3"
  },
  "language_info": {
   "codemirror_mode": {
    "name": "ipython",
    "version": 3
   },
   "file_extension": ".py",
   "mimetype": "text/x-python",
   "name": "python",
   "nbconvert_exporter": "python",
   "pygments_lexer": "ipython3",
   "version": "3.10.8"
  }
 },
 "nbformat": 4,
 "nbformat_minor": 5
}
